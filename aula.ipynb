{
 "cells": [
  {
   "cell_type": "code",
   "execution_count": 1,
   "metadata": {},
   "outputs": [],
   "source": [
    "# %pip install tensorflow\n",
    "# %pip install keras"
   ]
  },
  {
   "cell_type": "code",
   "execution_count": 2,
   "metadata": {},
   "outputs": [
    {
     "name": "stdout",
     "output_type": "stream",
     "text": [
      "WARNING:tensorflow:From c:\\Users\\Aluno\\AppData\\Local\\Programs\\Python\\Python310\\lib\\site-packages\\keras\\src\\losses.py:2976: The name tf.losses.sparse_softmax_cross_entropy is deprecated. Please use tf.compat.v1.losses.sparse_softmax_cross_entropy instead.\n",
      "\n"
     ]
    }
   ],
   "source": [
    "from keras import models\n",
    "from keras import layers\n",
    "from keras import activations\n",
    "from keras import initializers\n",
    "from keras import regularizers\n",
    "from keras import optimizers\n",
    "from keras import losses\n",
    "from keras import metrics\n",
    "from keras import callbacks\n",
    "from keras.preprocessing import image"
   ]
  },
  {
   "cell_type": "code",
   "execution_count": 3,
   "metadata": {},
   "outputs": [
    {
     "name": "stdout",
     "output_type": "stream",
     "text": [
      "WARNING:tensorflow:From c:\\Users\\Aluno\\AppData\\Local\\Programs\\Python\\Python310\\lib\\site-packages\\keras\\src\\backend.py:873: The name tf.get_default_graph is deprecated. Please use tf.compat.v1.get_default_graph instead.\n",
      "\n",
      "WARNING:tensorflow:From c:\\Users\\Aluno\\AppData\\Local\\Programs\\Python\\Python310\\lib\\site-packages\\keras\\src\\layers\\pooling\\max_pooling2d.py:161: The name tf.nn.max_pool is deprecated. Please use tf.nn.max_pool2d instead.\n",
      "\n"
     ]
    }
   ],
   "source": [
    "model = models.Sequential()\n",
    "\n",
    "# 32 -> 32 filtros de convolução para aplicar 32 filtros na \n",
    "# imagem com tamanho de kernel 5x5\n",
    "\n",
    "# input_shape -> Tamanho da imagem 64x64 | 3 canais (RGB)\n",
    "\n",
    "model.add(layers.Conv2D(\n",
    "    32, (5, 5),\n",
    "    input_shape = (64, 64, 3),\n",
    "    activation='relu'\n",
    "))\n",
    "\n",
    "# pool_size -> borda que ficará preta após convulução\n",
    "\n",
    "model.add(layers.MaxPooling2D(\n",
    "    pool_size=(2,2)\n",
    "))\n",
    "\n",
    "\n",
    "# Segundo filtro\n",
    "\n",
    "model.add(layers.Conv2D(\n",
    "    16, (5, 5),\n",
    "    input_shape = (30, 30, 3),\n",
    "    activation='relu'\n",
    "))\n",
    "\n",
    "model.add(layers.MaxPooling2D(\n",
    "    pool_size=(2, 2)\n",
    "))\n",
    "\n",
    "\n",
    "# model.add(layers.Conv2D(\n",
    "#     4, (5, 5),\n",
    "#     input_shape = (13, 13, 3),\n",
    "#     activation='relu'\n",
    "# ))\n",
    "\n",
    "# model.add(layers.MaxPooling2D(\n",
    "#     pool_size=(2, 2)\n",
    "# ))\n",
    "\n",
    "\n",
    "# Transforma imagens em valores unicos\n",
    "# Rede neural com 150.000 valores de entrada\n",
    "\n",
    "model.add(layers.Flatten())\n",
    "\n",
    "# Camada com 150 neuronios\n",
    "\n",
    "# Regulizadores evitam que os pesos explodam\n"
   ]
  },
  {
   "cell_type": "code",
   "execution_count": 4,
   "metadata": {},
   "outputs": [],
   "source": [
    "model.add(layers.Dense(256, \n",
    "    kernel_initializer= initializers.RandomNormal(stddev=1), # Valores iniciais aleatórios \n",
    "    bias_initializer=initializers.Zeros()))\n",
    "model.add(layers.Activation(activations.relu))\n",
    "\n",
    "model.add(layers.Dropout(0.2))\n",
    "model.add(layers.Activation(activations.relu))\n",
    "\n",
    "model.add(layers.Dense(64, kernel_regularizer= regularizers.L1(1e-4)))\n",
    "model.add(layers.Activation(activations.relu))\n",
    "\n",
    "model.add(layers.Dense(64))\n",
    "model.add(layers.Activation(activations.relu))\n",
    "\n",
    "model.add(layers.Dense(64))\n",
    "model.add(layers.Activation(activations.relu))\n",
    "\n",
    "model.add(layers.Dense(2))\n",
    "model.add(layers.Activation(activations.softmax))"
   ]
  },
  {
   "cell_type": "code",
   "execution_count": 5,
   "metadata": {},
   "outputs": [],
   "source": [
    "\n",
    "model.compile(\n",
    "    optimizer=optimizers.Adam(),\n",
    "    # Loss : indica o quão esta errado\n",
    "    loss=losses.BinaryCrossentropy(),\n",
    "    metrics=[metrics.CategoricalAccuracy(), metrics.Precision()]\n",
    ")\n",
    "\n",
    "\n",
    "dataGen = image.ImageDataGenerator(\n",
    "    rescale= 1.0/255,\n",
    "    shear_range=0.2, \n",
    "    zoom_range=0.2,\n",
    "    horizontal_flip=True,\n",
    "    vertical_flip=False,\n",
    "    validation_split=0.2\n",
    ")"
   ]
  },
  {
   "cell_type": "code",
   "execution_count": 6,
   "metadata": {},
   "outputs": [],
   "source": [
    "# #Camadas\n",
    "\n",
    "# model.add(layers.Dense(256,\n",
    "#     kernel_regularizer= regularizers.L2(1e-4), # Regulizador de valores estourados\n",
    "#     kernel_initializer= initializers.RandomNormal(stddev=1), # Valores iniciais aleatórios \n",
    "#     bias_initializer=initializers.Zeros() # Inicializar bias com valores 0\n",
    "# ))\n",
    "\n",
    "# # Camdas Menores\n",
    "\n",
    "# model.add(layers.Dense(64,\n",
    "#     kernel_regularizer= regularizers.L2(1e-4),\n",
    "#     kernel_initializer= initializers.RandomNormal(stddev=1),\n",
    "#     bias_initializer=initializers.Zeros()\n",
    "# )\n",
    "\n",
    "# model.add(layers.Activation(activations.relu))\n",
    "# # model.add(layers.BatchNormalization())\n",
    "\n",
    "# model.add(layers.Dense(64,\n",
    "#     kernel_regularizer= regularizers.L2(1e-4),\n",
    "#     kernel_initializer= initializers.RandomNormal(stddev=1),\n",
    "#     bias_initializer=initializers.Zeros()\n",
    "# ))\n",
    "\n",
    "# model.add(layers.Activation(activations.relu))\n",
    "\n",
    "\n",
    "\n",
    "# model.add(layers.Dense(2,\n",
    "#     kernel_regularizer= regularizers.L2(1e-4),\n",
    "#     kernel_initializer= initializers.RandomNormal(stddev=1),\n",
    "#     bias_initializer=initializers.Zeros()\n",
    "# ))\n",
    "\n",
    "# model.add(layers.Activation(activations.softmax))\n",
    "\n",
    "# # Escolhendo otimizador de pesos em cada etapa de treinamento\n"
   ]
  },
  {
   "cell_type": "code",
   "execution_count": 7,
   "metadata": {},
   "outputs": [
    {
     "name": "stdout",
     "output_type": "stream",
     "text": [
      "Found 20000 images belonging to 2 classes.\n",
      "Found 4998 images belonging to 2 classes.\n"
     ]
    }
   ],
   "source": [
    "b_size = 32\n",
    "\n",
    "\n",
    "X_train = dataGen.flow_from_directory(\n",
    "    \"./images\",\n",
    "    target_size=(64, 64),\n",
    "    batch_size= b_size,\n",
    "    class_mode='categorical', # Um neuronico no final pode ser binário, mais de um neuronio precisa ser categorico,\n",
    "    subset='training'\n",
    ")\n",
    "\n",
    "X_test = dataGen.flow_from_directory(\n",
    "    \"./images\",\n",
    "    target_size=(64, 64),\n",
    "    batch_size= b_size,\n",
    "    class_mode='categorical', # Um neuronico no final pode ser binário, mais de um neuronio precisa ser categorico,\n",
    "    subset='validation'\n",
    ")"
   ]
  },
  {
   "cell_type": "code",
   "execution_count": 8,
   "metadata": {},
   "outputs": [
    {
     "name": "stdout",
     "output_type": "stream",
     "text": [
      "Epoch 1/50\n",
      "WARNING:tensorflow:From c:\\Users\\Aluno\\AppData\\Local\\Programs\\Python\\Python310\\lib\\site-packages\\keras\\src\\utils\\tf_utils.py:492: The name tf.ragged.RaggedTensorValue is deprecated. Please use tf.compat.v1.ragged.RaggedTensorValue instead.\n",
      "\n",
      " 58/624 [=>............................] - ETA: 56s - loss: 0.8247 - categorical_accuracy: 0.5183 - precision: 0.5183"
     ]
    },
    {
     "name": "stderr",
     "output_type": "stream",
     "text": [
      "c:\\Users\\Aluno\\AppData\\Local\\Programs\\Python\\Python310\\lib\\site-packages\\PIL\\TiffImagePlugin.py:868: UserWarning: Truncated File Read\n",
      "  warnings.warn(str(msg))\n"
     ]
    },
    {
     "name": "stdout",
     "output_type": "stream",
     "text": [
      "624/624 [==============================] - 80s 125ms/step - loss: 0.7658 - categorical_accuracy: 0.5388 - precision: 0.5388 - val_loss: 0.7449 - val_categorical_accuracy: 0.5191 - val_precision: 0.5191\n",
      "Epoch 2/50\n",
      "624/624 [==============================] - 67s 108ms/step - loss: 0.7179 - categorical_accuracy: 0.5730 - precision: 0.5730 - val_loss: 0.7024 - val_categorical_accuracy: 0.5828 - val_precision: 0.5828\n",
      "Epoch 3/50\n",
      "624/624 [==============================] - 69s 111ms/step - loss: 0.6910 - categorical_accuracy: 0.5990 - precision: 0.5990 - val_loss: 0.6724 - val_categorical_accuracy: 0.6159 - val_precision: 0.6159\n",
      "Epoch 4/50\n",
      "624/624 [==============================] - 89s 142ms/step - loss: 0.6704 - categorical_accuracy: 0.6198 - precision: 0.6198 - val_loss: 0.6459 - val_categorical_accuracy: 0.6366 - val_precision: 0.6366\n",
      "Epoch 5/50\n",
      "244/624 [==========>...................] - ETA: 44s - loss: 0.6504 - categorical_accuracy: 0.6482 - precision: 0.6482"
     ]
    }
   ],
   "source": [
    "model.fit(x=X_train,\n",
    "    validation_data=X_test,\n",
    "    steps_per_epoch=624, \n",
    "    epochs=50, \n",
    "    validation_steps=100, \n",
    "callbacks=[\n",
    "        # callbacks.EarlyStopping(patience=4),\n",
    "        callbacks.ModelCheckpoint(\n",
    "            filepath= './epochs/model_{epoch:02d}_{loss:.2f}.keras'\n",
    "        )\n",
    "    ])"
   ]
  }
 ],
 "metadata": {
  "kernelspec": {
   "display_name": "Python 3.10.4 64-bit",
   "language": "python",
   "name": "python3"
  },
  "language_info": {
   "codemirror_mode": {
    "name": "ipython",
    "version": 3
   },
   "file_extension": ".py",
   "mimetype": "text/x-python",
   "name": "python",
   "nbconvert_exporter": "python",
   "pygments_lexer": "ipython3",
   "version": "3.10.4"
  },
  "orig_nbformat": 4,
  "vscode": {
   "interpreter": {
    "hash": "606e1e68140238ba5165e2ede8c0c37de558511e6f0c44b4698dbb40f581f55a"
   }
  }
 },
 "nbformat": 4,
 "nbformat_minor": 2
}
