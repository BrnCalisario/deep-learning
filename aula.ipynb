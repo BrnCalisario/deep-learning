{
 "cells": [
  {
   "cell_type": "code",
   "execution_count": 130,
   "metadata": {},
   "outputs": [],
   "source": [
    "# %pip install tensorflow\n",
    "# %pip install keras"
   ]
  },
  {
   "cell_type": "code",
   "execution_count": 131,
   "metadata": {},
   "outputs": [],
   "source": [
    "from keras import models\n",
    "from keras import layers\n",
    "from keras import activations\n",
    "from keras import initializers\n",
    "from keras import regularizers\n",
    "from keras import optimizers\n",
    "from keras import losses\n",
    "from keras import metrics\n",
    "from keras import callbacks\n",
    "from keras.preprocessing import image"
   ]
  },
  {
   "cell_type": "code",
   "execution_count": 132,
   "metadata": {},
   "outputs": [],
   "source": [
    "model = models.Sequential()\n",
    "\n",
    "# 32 -> 32 filtros de convolução para aplicar 32 filtros na \n",
    "# imagem com tamanho de kernel 5x5\n",
    "\n",
    "# input_shape -> Tamanho da imagem 64x64 | 3 canais (RGB)\n",
    "\n",
    "model.add(layers.Conv2D(\n",
    "    32, (5, 5),\n",
    "    input_shape = (64, 64, 3),\n",
    "    activation='relu'\n",
    "))\n",
    "\n",
    "# pool_size -> borda que ficará preta após convulução\n",
    "\n",
    "model.add(layers.MaxPooling2D(\n",
    "    pool_size=(2,2)\n",
    "))\n",
    "\n",
    "\n",
    "# Segundo filtro\n",
    "\n",
    "model.add(layers.Conv2D(\n",
    "    16, (5, 5),\n",
    "    input_shape = (30, 30, 3),\n",
    "    activation='relu'\n",
    "))\n",
    "\n",
    "model.add(layers.MaxPooling2D(\n",
    "    pool_size=(2, 2)\n",
    "))\n",
    "\n",
    "\n",
    "# model.add(layers.Conv2D(\n",
    "#     4, (5, 5),\n",
    "#     input_shape = (13, 13, 3),\n",
    "#     activation='relu'\n",
    "# ))\n",
    "\n",
    "# model.add(layers.MaxPooling2D(\n",
    "#     pool_size=(2, 2)\n",
    "# ))\n",
    "\n",
    "\n",
    "# Transforma imagens em valores unicos\n",
    "# Rede neural com 150.000 valores de entrada\n",
    "\n",
    "model.add(layers.Flatten())\n",
    "\n",
    "# Camada com 150 neuronios\n",
    "\n",
    "# Regulizadores evitam que os pesos explodam\n"
   ]
  },
  {
   "cell_type": "code",
   "execution_count": 133,
   "metadata": {},
   "outputs": [],
   "source": [
    "model.add(layers.Dense(256, \n",
    "    kernel_initializer= initializers.RandomNormal(stddev=1), # Valores iniciais aleatórios \n",
    "    bias_initializer=initializers.Zeros()))\n",
    "model.add(layers.Activation(activations.relu))\n",
    "\n",
    "model.add(layers.Dropout(0.2))\n",
    "model.add(layers.Activation(activations.relu))\n",
    "\n",
    "model.add(layers.Dense(64, kernel_regularizer= regularizers.L1(1e-4)))\n",
    "model.add(layers.Activation(activations.relu))\n",
    "\n",
    "model.add(layers.Dense(64))\n",
    "model.add(layers.Activation(activations.relu))\n",
    "\n",
    "model.add(layers.Dense(64))\n",
    "model.add(layers.Activation(activations.relu))\n",
    "\n",
    "model.add(layers.Dense(2))\n",
    "model.add(layers.Activation(activations.softmax))"
   ]
  },
  {
   "cell_type": "code",
   "execution_count": 134,
   "metadata": {},
   "outputs": [],
   "source": [
    "\n",
    "model.compile(\n",
    "    optimizer=optimizers.Adam(),\n",
    "    # Loss : indica o quão esta errado\n",
    "    loss=losses.BinaryCrossentropy(),\n",
    "    metrics=[metrics.CategoricalAccuracy(), metrics.Precision()]\n",
    ")\n",
    "\n",
    "\n",
    "dataGen = image.ImageDataGenerator(\n",
    "    rescale= 1.0/255,\n",
    "    shear_range=0.2, \n",
    "    zoom_range=0.2,\n",
    "    horizontal_flip=True,\n",
    "    vertical_flip=False,\n",
    "    validation_split=0.2\n",
    ")"
   ]
  },
  {
   "cell_type": "code",
   "execution_count": 135,
   "metadata": {},
   "outputs": [],
   "source": [
    "# #Camadas\n",
    "\n",
    "# model.add(layers.Dense(256,\n",
    "#     kernel_regularizer= regularizers.L2(1e-4), # Regulizador de valores estourados\n",
    "#     kernel_initializer= initializers.RandomNormal(stddev=1), # Valores iniciais aleatórios \n",
    "#     bias_initializer=initializers.Zeros() # Inicializar bias com valores 0\n",
    "# ))\n",
    "\n",
    "# # Camdas Menores\n",
    "\n",
    "# model.add(layers.Dense(64,\n",
    "#     kernel_regularizer= regularizers.L2(1e-4),\n",
    "#     kernel_initializer= initializers.RandomNormal(stddev=1),\n",
    "#     bias_initializer=initializers.Zeros()\n",
    "# )\n",
    "\n",
    "# model.add(layers.Activation(activations.relu))\n",
    "# # model.add(layers.BatchNormalization())\n",
    "\n",
    "# model.add(layers.Dense(64,\n",
    "#     kernel_regularizer= regularizers.L2(1e-4),\n",
    "#     kernel_initializer= initializers.RandomNormal(stddev=1),\n",
    "#     bias_initializer=initializers.Zeros()\n",
    "# ))\n",
    "\n",
    "# model.add(layers.Activation(activations.relu))\n",
    "\n",
    "\n",
    "\n",
    "# model.add(layers.Dense(2,\n",
    "#     kernel_regularizer= regularizers.L2(1e-4),\n",
    "#     kernel_initializer= initializers.RandomNormal(stddev=1),\n",
    "#     bias_initializer=initializers.Zeros()\n",
    "# ))\n",
    "\n",
    "# model.add(layers.Activation(activations.softmax))\n",
    "\n",
    "# # Escolhendo otimizador de pesos em cada etapa de treinamento\n"
   ]
  },
  {
   "cell_type": "code",
   "execution_count": 136,
   "metadata": {},
   "outputs": [
    {
     "name": "stdout",
     "output_type": "stream",
     "text": [
      "Found 19998 images belonging to 2 classes.\n",
      "Found 4998 images belonging to 2 classes.\n"
     ]
    }
   ],
   "source": [
    "b_size = 32\n",
    "\n",
    "\n",
    "X_train = dataGen.flow_from_directory(\n",
    "    \"./images\",\n",
    "    target_size=(64, 64),\n",
    "    batch_size= b_size,\n",
    "    class_mode='categorical', # Um neuronico no final pode ser binário, mais de um neuronio precisa ser categorico,\n",
    "    subset='training'\n",
    ")\n",
    "\n",
    "X_test = dataGen.flow_from_directory(\n",
    "    \"./images\",\n",
    "    target_size=(64, 64),\n",
    "    batch_size= b_size,\n",
    "    class_mode='categorical', # Um neuronico no final pode ser binário, mais de um neuronio precisa ser categorico,\n",
    "    subset='validation'\n",
    ")"
   ]
  },
  {
   "cell_type": "code",
   "execution_count": 137,
   "metadata": {},
   "outputs": [
    {
     "name": "stdout",
     "output_type": "stream",
     "text": [
      "Epoch 1/50\n",
      "600/624 [===========================>..] - ETA: 1s - loss: 0.7685 - categorical_accuracy: 0.5324 - precision_13: 0.5324"
     ]
    },
    {
     "name": "stderr",
     "output_type": "stream",
     "text": [
      "C:\\Users\\disrct\\AppData\\Roaming\\Python\\Python311\\site-packages\\PIL\\TiffImagePlugin.py:866: UserWarning: Truncated File Read\n",
      "  warnings.warn(str(msg))\n"
     ]
    },
    {
     "name": "stdout",
     "output_type": "stream",
     "text": [
      "624/624 [==============================] - 43s 67ms/step - loss: 0.7675 - categorical_accuracy: 0.5328 - precision_13: 0.5328 - val_loss: 0.7384 - val_categorical_accuracy: 0.5397 - val_precision_13: 0.5397\n",
      "Epoch 2/50\n",
      "624/624 [==============================] - 42s 67ms/step - loss: 0.7172 - categorical_accuracy: 0.5639 - precision_13: 0.5639 - val_loss: 0.6976 - val_categorical_accuracy: 0.5819 - val_precision_13: 0.5819\n",
      "Epoch 3/50\n",
      "624/624 [==============================] - 42s 67ms/step - loss: 0.6946 - categorical_accuracy: 0.5798 - precision_13: 0.5798 - val_loss: 0.6835 - val_categorical_accuracy: 0.5938 - val_precision_13: 0.5938\n",
      "Epoch 4/50\n",
      "624/624 [==============================] - 43s 68ms/step - loss: 0.6766 - categorical_accuracy: 0.6093 - precision_13: 0.6093 - val_loss: 0.6414 - val_categorical_accuracy: 0.6616 - val_precision_13: 0.6616\n",
      "Epoch 5/50\n",
      "624/624 [==============================] - 42s 68ms/step - loss: 0.6498 - categorical_accuracy: 0.6423 - precision_13: 0.6423 - val_loss: 0.6236 - val_categorical_accuracy: 0.6894 - val_precision_13: 0.6894\n",
      "Epoch 6/50\n",
      "624/624 [==============================] - 42s 68ms/step - loss: 0.6261 - categorical_accuracy: 0.6655 - precision_13: 0.6655 - val_loss: 0.6005 - val_categorical_accuracy: 0.7044 - val_precision_13: 0.7044\n",
      "Epoch 7/50\n",
      "624/624 [==============================] - 42s 68ms/step - loss: 0.6063 - categorical_accuracy: 0.6874 - precision_13: 0.6874 - val_loss: 0.6049 - val_categorical_accuracy: 0.6762 - val_precision_13: 0.6762\n",
      "Epoch 8/50\n",
      "624/624 [==============================] - 42s 67ms/step - loss: 0.5877 - categorical_accuracy: 0.7035 - precision_13: 0.7035 - val_loss: 0.5653 - val_categorical_accuracy: 0.7200 - val_precision_13: 0.7200\n",
      "Epoch 9/50\n",
      "624/624 [==============================] - 42s 68ms/step - loss: 0.5733 - categorical_accuracy: 0.7139 - precision_13: 0.7139 - val_loss: 0.5552 - val_categorical_accuracy: 0.7334 - val_precision_13: 0.7334\n",
      "Epoch 10/50\n",
      "624/624 [==============================] - 42s 67ms/step - loss: 0.5658 - categorical_accuracy: 0.7191 - precision_13: 0.7191 - val_loss: 0.5582 - val_categorical_accuracy: 0.7284 - val_precision_13: 0.7284\n",
      "Epoch 11/50\n",
      "624/624 [==============================] - 42s 67ms/step - loss: 0.5536 - categorical_accuracy: 0.7256 - precision_13: 0.7256 - val_loss: 0.5446 - val_categorical_accuracy: 0.7397 - val_precision_13: 0.7397\n",
      "Epoch 12/50\n",
      "624/624 [==============================] - 40s 65ms/step - loss: 0.5442 - categorical_accuracy: 0.7337 - precision_13: 0.7337 - val_loss: 0.5681 - val_categorical_accuracy: 0.7084 - val_precision_13: 0.7084\n",
      "Epoch 13/50\n",
      "624/624 [==============================] - 41s 66ms/step - loss: 0.5344 - categorical_accuracy: 0.7404 - precision_13: 0.7404 - val_loss: 0.5295 - val_categorical_accuracy: 0.7528 - val_precision_13: 0.7528\n",
      "Epoch 14/50\n",
      "624/624 [==============================] - 41s 66ms/step - loss: 0.5285 - categorical_accuracy: 0.7448 - precision_13: 0.7448 - val_loss: 0.5268 - val_categorical_accuracy: 0.7409 - val_precision_13: 0.7409\n",
      "Epoch 15/50\n",
      "624/624 [==============================] - 42s 67ms/step - loss: 0.5180 - categorical_accuracy: 0.7527 - precision_13: 0.7527 - val_loss: 0.5201 - val_categorical_accuracy: 0.7547 - val_precision_13: 0.7547\n",
      "Epoch 16/50\n",
      "624/624 [==============================] - 42s 67ms/step - loss: 0.5082 - categorical_accuracy: 0.7570 - precision_13: 0.7570 - val_loss: 0.5081 - val_categorical_accuracy: 0.7659 - val_precision_13: 0.7659\n",
      "Epoch 17/50\n",
      "624/624 [==============================] - 40s 65ms/step - loss: 0.5005 - categorical_accuracy: 0.7642 - precision_13: 0.7642 - val_loss: 0.5017 - val_categorical_accuracy: 0.7641 - val_precision_13: 0.7641\n",
      "Epoch 18/50\n",
      "624/624 [==============================] - 43s 69ms/step - loss: 0.4981 - categorical_accuracy: 0.7679 - precision_13: 0.7679 - val_loss: 0.5167 - val_categorical_accuracy: 0.7472 - val_precision_13: 0.7472\n",
      "Epoch 19/50\n",
      "624/624 [==============================] - 40s 63ms/step - loss: 0.4920 - categorical_accuracy: 0.7742 - precision_13: 0.7742 - val_loss: 0.4994 - val_categorical_accuracy: 0.7684 - val_precision_13: 0.7684\n",
      "Epoch 20/50\n",
      "624/624 [==============================] - ETA: 0s - loss: 0.4854 - categorical_accuracy: 0.7718 - precision_13: 0.7718"
     ]
    }
   ],
   "source": [
    "model.fit(x=X_train,\n",
    "    validation_data=X_test,\n",
    "    steps_per_epoch=624, \n",
    "    epochs=50, \n",
    "    validation_steps=100, \n",
    "    callbacks=[\n",
    "        # callbacks.EarlyStopping(patience=4),\n",
    "        callbacks.ModelCheckpoint(\n",
    "            filepath= './epochs/model_{epoch:02d}_{loss:.2f}.keras'\n",
    "        )\n",
    "    ])"
   ]
  }
 ],
 "metadata": {
  "kernelspec": {
   "display_name": "Python 3",
   "language": "python",
   "name": "python3"
  },
  "language_info": {
   "codemirror_mode": {
    "name": "ipython",
    "version": 3
   },
   "file_extension": ".py",
   "mimetype": "text/x-python",
   "name": "python",
   "nbconvert_exporter": "python",
   "pygments_lexer": "ipython3",
   "version": "3.11.4"
  },
  "orig_nbformat": 4
 },
 "nbformat": 4,
 "nbformat_minor": 2
}
